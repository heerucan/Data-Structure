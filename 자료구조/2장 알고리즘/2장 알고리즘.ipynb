{
 "cells": [
  {
   "cell_type": "markdown",
   "metadata": {},
   "source": [
    "# 자료구조 - 2장 알고리즘\n",
    "\n",
    "### 선형 검색 구현"
   ]
  },
  {
   "cell_type": "code",
   "execution_count": 2,
   "metadata": {},
   "outputs": [],
   "source": [
    "# 선형 탐색 함수\n",
    "\n",
    "## list는 검색대상이 되는 매개변수\n",
    "## item은 찾고자 하는 대상이 되는 매개변수\n",
    "\n",
    "## len(list)-1 을 해주면 배열의 마지막 원소의 인덱스를 알 수 있음\n",
    "\n",
    "## range(시작값, 종료값-1, 증가/감소값)\n",
    "## range(len(list)) => range(0, range(len(list))-1, +1)\n",
    "\n",
    "def linear_search(list, item):\n",
    "    for i in range(len(list)):\n",
    "        if list[i] == item:\n",
    "            return i\n",
    "        return None      "
   ]
  },
  {
   "cell_type": "code",
   "execution_count": null,
   "metadata": {},
   "outputs": [],
   "source": [
    "# Test\n",
    "print(linear_search([2, 3, 5, 7, 11], 2)) \n",
    "print(linear_search([2, 3, 5, 7, 11], 0)) \n",
    "print(linear_search([2, 3, 5, 7, 11], 5))\n",
    "print(linear_search([2, 3, 5, 7, 11], 3))\n",
    "print(linear_search([2, 3, 5, 7, 11], 11))\n",
    "\n",
    "## 결과값\n",
    "## 0\n",
    "## None\n",
    "## None\n",
    "## None\n",
    "## None"
   ]
  },
  {
   "cell_type": "markdown",
   "metadata": {},
   "source": [
    "#### 0이 출력되는 이유는 2라는 원소의 인덱스 값을 출력했기 때문이다. list[2] = 0"
   ]
  },
  {
   "cell_type": "markdown",
   "metadata": {},
   "source": [
    "### 이진 검색 구현"
   ]
  },
  {
   "cell_type": "code",
   "execution_count": 19,
   "metadata": {},
   "outputs": [],
   "source": [
    "# 이진 탐색 프로그램\n",
    "\n",
    "def binary_search(list, item):\n",
    "    low = 0\n",
    "    high = len(list)-1\n",
    "    \n",
    "    while low <= high:\n",
    "        mid = int((low + high) / 2)  ## 중간값은 항상 정수 -> int처리        \n",
    "        guess = list[mid]\n",
    "        \n",
    "        if guess == item:\n",
    "            return mid\n",
    "        if guess > item:    ## 추측한 숫자가 더 큼\n",
    "            high = mid - 1  ## 왜 mid - 1 이냐면 인덱스 값은 항상 0부터 시작하니까\n",
    "        else:\n",
    "            low = mid + 1\n",
    "    return None\n",
    "\n"
   ]
  },
  {
   "cell_type": "code",
   "execution_count": 22,
   "metadata": {},
   "outputs": [
    {
     "name": "stdout",
     "output_type": "stream",
     "text": [
      "1\n",
      "None\n"
     ]
    }
   ],
   "source": [
    "# Test\n",
    "\n",
    "my_list = [1, 3, 5, 7, 9]\n",
    "\n",
    "print(binary_search(my_list, 3))\n",
    "print(binary_search(my_list, -1))\n",
    "\n",
    "## 결과값\n",
    "## 1\n",
    "## None"
   ]
  },
  {
   "cell_type": "code",
   "execution_count": null,
   "metadata": {},
   "outputs": [],
   "source": []
  }
 ],
 "metadata": {
  "kernelspec": {
   "display_name": "Python 3",
   "language": "python",
   "name": "python3"
  },
  "language_info": {
   "codemirror_mode": {
    "name": "ipython",
    "version": 3
   },
   "file_extension": ".py",
   "mimetype": "text/x-python",
   "name": "python",
   "nbconvert_exporter": "python",
   "pygments_lexer": "ipython3",
   "version": "3.8.5"
  }
 },
 "nbformat": 4,
 "nbformat_minor": 4
}
