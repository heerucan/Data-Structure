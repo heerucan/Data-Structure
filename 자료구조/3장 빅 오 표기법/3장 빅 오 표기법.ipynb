{
 "cells": [
  {
   "cell_type": "markdown",
   "metadata": {},
   "source": [
    "# 자료구조 - 3장 빅 오 표기법"
   ]
  },
  {
   "cell_type": "code",
   "execution_count": 3,
   "metadata": {},
   "outputs": [
    {
     "name": "stdout",
     "output_type": "stream",
     "text": [
      "Here's a thing: apples\n",
      "Here's a thing: baboons\n",
      "Here's a thing: cribs\n",
      "Here's a thing: dulcimers\n"
     ]
    }
   ],
   "source": [
    "# 리스트 내의 모든 항목을 출력하는 프로그램\n",
    "\n",
    "## O(N) - 데이터 개수만큼 출력\n",
    "\n",
    "things = ['apples', 'baboons', 'cribs', 'dulcimers']\n",
    "\n",
    "for thing in things:\n",
    "    print(\"Here's a thing: %s\" % thing)"
   ]
  },
  {
   "cell_type": "code",
   "execution_count": 4,
   "metadata": {},
   "outputs": [
    {
     "name": "stdout",
     "output_type": "stream",
     "text": [
      "Hello World!\n"
     ]
    }
   ],
   "source": [
    "# 한 문장 출력하는 프로그램\n",
    "\n",
    "## O(1) - 입력된 데이터와 상관없이 딱 한 번만 출력\n",
    "\n",
    "print(\"Hello World!\")"
   ]
  },
  {
   "cell_type": "code",
   "execution_count": 5,
   "metadata": {},
   "outputs": [],
   "source": [
    "# 소수인지 판단하는 프로그램\n",
    "\n",
    "## O(N) - 1부터 모든 수를 다 출력하기 때문에\n",
    "\n",
    "def is_prime(number):\n",
    "    \n",
    "    if number == 1:\n",
    "        return False\n",
    "    \n",
    "    for i in range(2, number):\n",
    "        if number % i == 0:\n",
    "            return False\n",
    "    return True"
   ]
  },
  {
   "cell_type": "code",
   "execution_count": 6,
   "metadata": {},
   "outputs": [
    {
     "name": "stdout",
     "output_type": "stream",
     "text": [
      "True\n",
      "False\n",
      "True\n",
      "False\n"
     ]
    }
   ],
   "source": [
    "# Test\n",
    "\n",
    "print(is_prime(7))\n",
    "print(is_prime(1))\n",
    "print(is_prime(131))\n",
    "print(is_prime(111))"
   ]
  },
  {
   "cell_type": "code",
   "execution_count": null,
   "metadata": {},
   "outputs": [],
   "source": [
    "# 이진탐색 -> O(logN)"
   ]
  }
 ],
 "metadata": {
  "kernelspec": {
   "display_name": "Python 3",
   "language": "python",
   "name": "python3"
  },
  "language_info": {
   "codemirror_mode": {
    "name": "ipython",
    "version": 3
   },
   "file_extension": ".py",
   "mimetype": "text/x-python",
   "name": "python",
   "nbconvert_exporter": "python",
   "pygments_lexer": "ipython3",
   "version": "3.8.5"
  }
 },
 "nbformat": 4,
 "nbformat_minor": 4
}
